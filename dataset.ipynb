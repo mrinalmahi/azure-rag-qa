{
 "cells": [
  {
   "cell_type": "code",
   "execution_count": 1,
   "id": "0359bdce",
   "metadata": {},
   "outputs": [
    {
     "name": "stderr",
     "output_type": "stream",
     "text": [
      "c:\\Users\\mrina\\.conda\\envs\\ragqa\\lib\\site-packages\\tqdm\\auto.py:21: TqdmWarning: IProgress not found. Please update jupyter and ipywidgets. See https://ipywidgets.readthedocs.io/en/stable/user_install.html\n",
      "  from .autonotebook import tqdm as notebook_tqdm\n"
     ]
    }
   ],
   "source": [
    "from datasets import load_dataset"
   ]
  },
  {
   "cell_type": "code",
   "execution_count": 7,
   "id": "5574d344",
   "metadata": {},
   "outputs": [
    {
     "name": "stderr",
     "output_type": "stream",
     "text": [
      "c:\\Users\\mrina\\.conda\\envs\\ragqa\\lib\\site-packages\\huggingface_hub\\file_download.py:143: UserWarning: `huggingface_hub` cache-system uses symlinks by default to efficiently store duplicated files but your machine does not support them in C:\\Users\\mrina\\.cache\\huggingface\\hub\\datasets--BastienHot--BioASQ-Task-B-Revised. Caching files will still work but in a degraded version that might require more space on your disk. This warning can be disabled by setting the `HF_HUB_DISABLE_SYMLINKS_WARNING` environment variable. For more details, see https://huggingface.co/docs/huggingface_hub/how-to-cache#limitations.\n",
      "To support symlinks on Windows, you either need to activate Developer Mode or to run Python as an administrator. In order to activate developer mode, see this article: https://docs.microsoft.com/en-us/windows/apps/get-started/enable-your-device-for-development\n",
      "  warnings.warn(message)\n",
      "Xet Storage is enabled for this repo, but the 'hf_xet' package is not installed. Falling back to regular HTTP download. For better performance, install the package with: `pip install huggingface_hub[hf_xet]` or `pip install hf_xet`\n",
      "Xet Storage is enabled for this repo, but the 'hf_xet' package is not installed. Falling back to regular HTTP download. For better performance, install the package with: `pip install huggingface_hub[hf_xet]` or `pip install hf_xet`\n",
      "Generating train split: 100%|██████████| 34713/34713 [00:00<00:00, 507750.24 examples/s]\n",
      "Generating test split: 100%|██████████| 3858/3858 [00:00<00:00, 482500.67 examples/s]\n"
     ]
    }
   ],
   "source": [
    "ds = load_dataset(\"BastienHot/BioASQ-Task-B-Revised\")"
   ]
  },
  {
   "cell_type": "code",
   "execution_count": 18,
   "id": "91c7f3ac",
   "metadata": {},
   "outputs": [
    {
     "data": {
      "text/plain": [
       "{'context': 'Two hundred and ninety cases of subacute sclerosing panencephalitis (SSPE) registered in England and Wales from 1970 to 1989 were followed at 6-monthly intervals. Male to female ratio was 2.8:1. Age at onset increased significantly over the period. Measles was recorded for 81% of cases; in nearly half this had occurred under 2 years. Measles vaccine was documented in 20 cases; in 10 measles was also documented and it could not be positively excluded in the remainder. The calculated risk of SSPE following measles was 4.0/100,000 cases compared with the risk after vaccine of 0.14/100,000 doses. Measles under 1 year carried a risk 16 times greater than measles over 5 years. There was an excess of cases in third and subsequent children. The incidence was higher in the northwest than in the southeast of the country. Survival time varied from 4 weeks to 16 years and was shorter when measles had occurred over the mean age of 2.5 years. Of the cases 9% had a history of mental retardation before the onset of SSPE. The incidence of SSPE has fallen following the reduction in measles resulting from vaccination. However, because of the median 8-year interval between measles and onset of SSPE, further cases arising from measles during the study period must still be expected, particularly in adolescents.',\n",
       " 'question': 'Is subacute sclerosing panencephalitis caused by the Measles vaccine?',\n",
       " 'answer': 'However, because of the median 8-year interval between measles and onset of SSPE,'}"
      ]
     },
     "execution_count": 18,
     "metadata": {},
     "output_type": "execute_result"
    }
   ],
   "source": [
    "ds[\"train\"][0]"
   ]
  },
  {
   "cell_type": "code",
   "execution_count": 19,
   "id": "11cc03b7",
   "metadata": {},
   "outputs": [
    {
     "name": "stdout",
     "output_type": "stream",
     "text": [
      "Two hundred and ninety cases of subacute sclerosing panencephalitis (SSPE) registered in England and Wales from 1970 to 1989 were followed at 6-monthly intervals. Male to female ratio was 2.8:1. Age at onset increased significantly over the period. Measles was recorded for 81% of cases; in nearly half this had occurred under 2 years. Measles vaccine was documented in 20 cases; in 10 measles was also documented and it could not be positively excluded in the remainder. The calculated risk of SSPE following measles was 4.0/100,000 cases compared with the risk after vaccine of 0.14/100,000 doses. Measles under 1 year carried a risk 16 times greater than measles over 5 years. There was an excess of cases in third and subsequent children. The incidence was higher in the northwest than in the southeast of the country. Survival time varied from 4 weeks to 16 years and was shorter when measles had occurred over the mean age of 2.5 years. Of the cases 9% had a history of mental retardation before the onset of SSPE. The incidence of SSPE has fallen following the reduction in measles resulting from vaccination. However, because of the median 8-year interval between measles and onset of SSPE, further cases arising from measles during the study period must still be expected, particularly in adolescents.\n"
     ]
    }
   ],
   "source": [
    "print(ds[\"train\"][0][\"context\"])"
   ]
  },
  {
   "cell_type": "code",
   "execution_count": null,
   "id": "98c6160b",
   "metadata": {},
   "outputs": [],
   "source": []
  }
 ],
 "metadata": {
  "kernelspec": {
   "display_name": "ragqa",
   "language": "python",
   "name": "python3"
  },
  "language_info": {
   "codemirror_mode": {
    "name": "ipython",
    "version": 3
   },
   "file_extension": ".py",
   "mimetype": "text/x-python",
   "name": "python",
   "nbconvert_exporter": "python",
   "pygments_lexer": "ipython3",
   "version": "3.10.18"
  }
 },
 "nbformat": 4,
 "nbformat_minor": 5
}
